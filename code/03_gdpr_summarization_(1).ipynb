{
  "nbformat": 4,
  "nbformat_minor": 0,
  "metadata": {
    "colab": {
      "provenance": []
    },
    "kernelspec": {
      "name": "python3",
      "display_name": "Python 3"
    },
    "language_info": {
      "name": "python"
    }
  },
  "cells": [
    {
      "cell_type": "markdown",
      "source": [
        "### Data Prep"
      ],
      "metadata": {
        "id": "N1OeI0aNbWX1"
      }
    },
    {
      "cell_type": "code",
      "source": [
        "from google.colab import drive\n",
        "drive.mount('/content/drive')"
      ],
      "metadata": {
        "id": "50Kf4BncbZRi"
      },
      "execution_count": null,
      "outputs": []
    },
    {
      "cell_type": "code",
      "source": [
        "pip install transformers pandas openpyxl"
      ],
      "metadata": {
        "id": "AiRUcuaxbuNb"
      },
      "execution_count": null,
      "outputs": []
    },
    {
      "cell_type": "code",
      "source": [
        "pip install rouge"
      ],
      "metadata": {
        "colab": {
          "base_uri": "https://localhost:8080/"
        },
        "id": "bP0kx3DopGvM",
        "outputId": "ecadb313-079f-4a01-c338-4078388280bc"
      },
      "execution_count": null,
      "outputs": [
        {
          "output_type": "stream",
          "name": "stdout",
          "text": [
            "Collecting rouge\n",
            "  Downloading rouge-1.0.1-py3-none-any.whl (13 kB)\n",
            "Requirement already satisfied: six in /usr/local/lib/python3.10/dist-packages (from rouge) (1.16.0)\n",
            "Installing collected packages: rouge\n",
            "Successfully installed rouge-1.0.1\n"
          ]
        }
      ]
    },
    {
      "cell_type": "code",
      "source": [
        "import pandas as pd\n",
        "import os\n",
        "from rouge import Rouge"
      ],
      "metadata": {
        "id": "oC8i7idTbk11"
      },
      "execution_count": null,
      "outputs": []
    },
    {
      "cell_type": "code",
      "source": [
        "# Data to summarize\n",
        "\n",
        "directory_path = '/content/drive/MyDrive/GDPR/GDPR/Data/GDPR Key issues'\n",
        "file_names = os.listdir(directory_path)\n",
        "print(file_names)\n",
        "\n",
        "filepath= '/content/drive/MyDrive/GDPR/GDPR/Data/GDPR Key issues/'\n",
        "documents = [open(filepath+path, 'r').read() for path in file_names]"
      ],
      "metadata": {
        "colab": {
          "base_uri": "https://localhost:8080/"
        },
        "id": "FvK8wuxqbcj0",
        "outputId": "40244e0e-64ff-41e2-b094-1884039c7839"
      },
      "execution_count": null,
      "outputs": [
        {
          "output_type": "stream",
          "name": "stdout",
          "text": [
            "['6. Personal Data.txt', '9. Processing.txt', '7. Privacy by Design.txt', '12. Right to be Forgotten.txt', '8. Privacy Impact Assessment.txt', '14. Third Countries.txt', '5. Fines_Penalties.txt', '10. Records of Processing Activities.txt', '11. Right of Access.txt', '13. Right to be Informed.txt', '2. Data Protection Officer.txt', '4. Encryption.txt', '1. Consent.txt', '3. Email Marketing.txt']\n"
          ]
        }
      ]
    },
    {
      "cell_type": "code",
      "source": [
        "documents[-2] # sample for comparison"
      ],
      "metadata": {
        "colab": {
          "base_uri": "https://localhost:8080/",
          "height": 510
        },
        "id": "HxVN99FYcUPP",
        "outputId": "2df6f1e7-b0c5-4dc8-8f6d-ad652935f7a2"
      },
      "execution_count": null,
      "outputs": [
        {
          "output_type": "execute_result",
          "data": {
            "text/plain": [
              "'Processing personal data is generally prohibited, unless it is expressly allowed by law, or the data subject has consented to the processing. While being one of the more well-known legal bases for processing personal data, consent is only one of six bases mentioned in the General Data Protection Regulation (GDPR). The others are: contract, legal obligations, vital interests of the data subject, public interest and legitimate interest as stated in Article 6(1) GDPR.\\nThe basic requirements for the effectiveness of a valid legal consent are defined in Article 7 and specified further in recital 32 of the GDPR. Consent must be freely given, specific, informed and unambiguous. In order to obtain freely given consent, it must be given on a voluntary basis. The element “free” implies a real choice by the data subject. Any element of inappropriate pressure or influence which could affect the outcome of that choice renders the consent invalid. In doing so, the legal text takes a certain imbalance between the controller and the data subject into consideration. For example, in an employer-employee relationship: The employee may worry that his refusal to consent may have severe negative consequences on his employment relationship, thus consent can only be a lawful basis for processing in a few exceptional circumstances. In addition, a so-called “coupling prohibition” or “prohibition of coupling or tying” applies. Thus, the performance of a contract may not be made dependent upon the consent to process further personal data, which is not needed for the performance of that contract.\\nFor consent to be informed and specific, the data subject must at least be notified about the controller’s identity, what kind of data will be processed, how it will be used and the purpose of the processing operations as a safeguard against ‘function creep’. The data subject must also be informed about his or her right to withdraw consent anytime. The withdrawal must be as easy as giving consent. Where relevant, the controller also has to inform about the use of the data for automated decision-making, the possible risks of data transfers due to absence of an adequacy decision or other appropriate safeguards.\\nThe consent must be bound to one or several specified purposes which must then be sufficiently explained. If the consent should legitimise the processing of special categories of personal data, the information for the data subject must expressly refer to this.\\nThere must always be a clear distinction between the information needed for the informed consent and information about other contractual matters.\\nLast but not least, consent must be unambiguous, which means it requires either a statement or a clear affirmative act. Consent cannot be implied and must always be given through an opt-in, a declaration or an active motion, so that there is no misunderstanding that the data subject has consented to the particular processing. That being said, there is no form requirement for consent, even if written consent is recommended due to the accountability of the controller. It can therefore also be given in electronic form. In this regard, consent of children and adolescents in relation to information society services is a special case. For those who are under the age of 16, there is an additional consent or authorisation requirement from the holder of parental responsibility. The age limit is subject to a flexibility clause. Member States may provide for a lower age by national law, provided that such age is not below the age of 13 years. When a service offering is explicitly not addressed to children, it is freed of this rule. However, this does not apply to offers which are addressed to both children and adults.\\nAs one can see consent is not a silver bullet when it comes to the processing of personal data. Especially considering that the European data protection authorities have made it clear “that if a controller chooses to rely on consent for any part of the processing, they must be prepared to respect that choice and stop that part of the processing if an individual withdraws consent.” Strictly interpreted, this means the controller is not allowed to switch from the legal basis consent to legitimate interest once the data subject withdraws his consent. This applies even if a valid legitimate interest existed initially. Therefore, consent should always be chosen as a last option for processing personal data.\\n'"
            ],
            "application/vnd.google.colaboratory.intrinsic+json": {
              "type": "string"
            }
          },
          "metadata": {},
          "execution_count": 56
        }
      ]
    },
    {
      "cell_type": "markdown",
      "source": [
        "### Extractive Summarization tutorial - https://www.youtube.com/watch?v=9PoKellNrBc"
      ],
      "metadata": {
        "id": "xh912fCBbaNZ"
      }
    },
    {
      "cell_type": "code",
      "execution_count": null,
      "metadata": {
        "id": "r0TVFopQa8h0"
      },
      "outputs": [],
      "source": [
        "import spacy\n",
        "from spacy.lang.en.stop_words import STOP_WORDS\n",
        "from string import punctuation\n",
        "from heapq import nlargest"
      ]
    },
    {
      "cell_type": "code",
      "source": [
        "stopwords = list(STOP_WORDS)\n",
        "\n",
        "punctuation = punctuation + '\\n'\n",
        "punctuation\n",
        "\n",
        "nlp = spacy.load('en_core_web_sm')"
      ],
      "metadata": {
        "id": "PWqKtWuRbghS"
      },
      "execution_count": null,
      "outputs": []
    },
    {
      "cell_type": "code",
      "source": [
        "for doc in [documents[-2]]:\n",
        "  doc = nlp(doc)\n",
        "\n",
        "  # Tokenisation\n",
        "  tokens = [token.text for token in doc]\n",
        "  # print(tokens)\n",
        "\n",
        "  word_frequencies = {}\n",
        "  for word in doc:\n",
        "      if word.text.lower() not in stopwords:\n",
        "          if word.text.lower() not in punctuation:\n",
        "              if word.text not in word_frequencies.keys():\n",
        "                  word_frequencies[word.text] = 1\n",
        "              else:\n",
        "                  word_frequencies[word.text] += 1\n",
        "\n",
        "  # print(word_frequencies)\n",
        "  # print(max(word_frequencies.values()))\n",
        "\n",
        "\n",
        "  for word in word_frequencies.keys():\n",
        "    word_frequencies[word] = word_frequencies[word]/max_frequency\n",
        "\n",
        "  # print(word_frequencies)\n",
        "\n",
        "  sentence_tokens = [sent for sent in doc.sents]\n",
        "  # print(sentence_tokens)\n",
        "\n",
        "  sentence_scores = {}\n",
        "  for sent in sentence_tokens:\n",
        "    for word in sent:\n",
        "      if word.text.lower() in word_frequencies.keys():\n",
        "        if sent not in sentence_scores.keys():\n",
        "          sentence_scores[sent] = word_frequencies[word.text.lower()]\n",
        "        else:\n",
        "          sentence_scores[sent] += word_frequencies[word.text.lower()]\n",
        "\n",
        "  # print(sentence_scores)\n",
        "\n",
        "  select_length = int(len(sentence_tokens)*0.4)\n",
        "  # print(select_length)\n",
        "\n",
        "  summary = nlargest(select_length, sentence_scores, key = sentence_scores.get)\n",
        "  final_summary = [word.text for word in summary]\n",
        "  summary = ' '.join(final_summary)\n",
        "  print(summary)"
      ],
      "metadata": {
        "id": "XXC2inorqRV8",
        "colab": {
          "base_uri": "https://localhost:8080/"
        },
        "outputId": "5a20f22b-36d6-44ba-c6f7-da26bf771d4d"
      },
      "execution_count": null,
      "outputs": [
        {
          "output_type": "stream",
          "name": "stdout",
          "text": [
            "Especially considering that the European data protection authorities have made it clear “that if a controller chooses to rely on consent for any part of the processing, they must be prepared to respect that choice and stop that part of the processing if an individual withdraws consent.” Strictly interpreted, this means the controller is not allowed to switch from the legal basis consent to legitimate interest once the data subject withdraws his consent. For consent to be informed and specific, the data subject must at least be notified about the controller’s identity, what kind of data will be processed, how it will be used and the purpose of the processing operations as a safeguard against ‘function creep’. If the consent should legitimise the processing of special categories of personal data, the information for the data subject must expressly refer to this.\n",
            " While being one of the more well-known legal bases for processing personal data, consent is only one of six bases mentioned in the General Data Protection Regulation (GDPR). Processing personal data is generally prohibited, unless it is expressly allowed by law, or the data subject has consented to the processing. For example, in an employer-employee relationship: The employee may worry that his refusal to consent may have severe negative consequences on his employment relationship, thus consent can only be a lawful basis for processing in a few exceptional circumstances. Consent cannot be implied and must always be given through an opt-in, a declaration or an active motion, so that there is no misunderstanding that the data subject has consented to the particular processing. Thus, the performance of a contract may not be made dependent upon the consent to process further personal data, which is not needed for the performance of that contract.\n",
            " As one can see consent is not a silver bullet when it comes to the processing of personal data. That being said, there is no form requirement for consent, even if written consent is recommended due to the accountability of the controller. Therefore, consent should always be chosen as a last option for processing personal data.\n",
            " The data subject must also be informed about his or her right to withdraw consent anytime.\n"
          ]
        }
      ]
    },
    {
      "cell_type": "code",
      "source": [
        "# Example summaries and references\n",
        "summary = '''Especially considering that the European data protection authorities have made it clear “that if a controller chooses to rely on consent for any part of the processing, they must be prepared to respect that choice and stop that part of the processing if an individual withdraws consent.” Strictly interpreted, this means the controller is not allowed to switch from the legal basis consent to legitimate interest once the data subject withdraws his consent. For consent to be informed and specific, the data subject must at least be notified about the controller’s identity, what kind of data will be processed, how it will be used and the purpose of the processing operations as a safeguard against ‘function creep’. If the consent should legitimise the processing of special categories of personal data, the information for the data subject must expressly refer to this.\n",
        " While being one of the more well-known legal bases for processing personal data, consent is only one of six bases mentioned in the General Data Protection Regulation (GDPR). Processing personal data is generally prohibited, unless it is expressly allowed by law, or the data subject has consented to the processing. For example, in an employer-employee relationship: The employee may worry that his refusal to consent may have severe negative consequences on his employment relationship, thus consent can only be a lawful basis for processing in a few exceptional circumstances. Consent cannot be implied and must always be given through an opt-in, a declaration or an active motion, so that there is no misunderstanding that the data subject has consented to the particular processing. Thus, the performance of a contract may not be made dependent upon the consent to process further personal data, which is not needed for the performance of that contract.\n",
        " As one can see consent is not a silver bullet when it comes to the processing of personal data. That being said, there is no form requirement for consent, even if written consent is recommended due to the accountability of the controller. Therefore, consent should always be chosen as a last option for processing personal data.\n",
        " The data subject must also be informed about his or her right to withdraw consent anytime.'''\n",
        "reference = documents[-2]\n",
        "\n",
        "rouge = Rouge()\n",
        "scores = rouge.get_scores(summary, reference)\n",
        "print('Rouge score:', scores)"
      ],
      "metadata": {
        "colab": {
          "base_uri": "https://localhost:8080/"
        },
        "id": "5HjXX5ChpebI",
        "outputId": "5bc26f90-23c6-49b7-c848-d13a075742cf"
      },
      "execution_count": null,
      "outputs": [
        {
          "output_type": "stream",
          "name": "stdout",
          "text": [
            "Rouge score: [{'rouge-1': {'r': 0.549079754601227, 'p': 1.0, 'f': 0.7089108865127733}, 'rouge-2': {'r': 0.48538961038961037, 'p': 0.964516129032258, 'f': 0.6457883324790432}, 'rouge-l': {'r': 0.549079754601227, 'p': 1.0, 'f': 0.7089108865127733}}]\n"
          ]
        }
      ]
    },
    {
      "cell_type": "markdown",
      "source": [
        "### Summarization with pre-trained summarizer"
      ],
      "metadata": {
        "id": "hAoQjjUp0YCI"
      }
    },
    {
      "cell_type": "markdown",
      "source": [
        "#### Default summarization"
      ],
      "metadata": {
        "id": "WSfG97TF2wrT"
      }
    },
    {
      "cell_type": "code",
      "source": [
        "from transformers import pipeline\n",
        "\n",
        "\n",
        "# Load Summarization Model\n",
        "summarizer = pipeline(\"summarization\")\n",
        "\n",
        "# Generate Summaries\n",
        "summaries = [summarizer(doc, max_length=1000, min_length=200, length_penalty=2.0, num_beams=9)[0]['summary_text'] for doc in [documents[-2]]]\n",
        "\n",
        "summaries[0]"
      ],
      "metadata": {
        "colab": {
          "base_uri": "https://localhost:8080/",
          "height": 220
        },
        "id": "08PIaz6crdLQ",
        "outputId": "6353eb3f-a109-4f83-bbb8-8083dbf6495c"
      },
      "execution_count": null,
      "outputs": [
        {
          "output_type": "stream",
          "name": "stderr",
          "text": [
            "No model was supplied, defaulted to sshleifer/distilbart-cnn-12-6 and revision a4f8f3e (https://huggingface.co/sshleifer/distilbart-cnn-12-6).\n",
            "Using a pipeline without specifying a model name and revision in production is not recommended.\n",
            "Your max_length is set to 1000, but your input_length is only 859. Since this is a summarization task, where outputs shorter than the input are typically wanted, you might consider decreasing max_length manually, e.g. summarizer('...', max_length=429)\n"
          ]
        },
        {
          "output_type": "execute_result",
          "data": {
            "text/plain": [
              "' Processing personal data is generally prohibited, unless it is expressly allowed by law, or the data subject has consented to the processing . The basic requirements for the effectiveness of a valid legal consent are defined in Article 7 and specified further in recital 32 of the General Data Protection Regulation (GDPR) consent must be freely given, specific, informed and unambiguous . For consent of children and adolescents in relation to information society services is a special case . For those who are under the age of 16, there is an additional consent or authorisation requirement from the holder of parental responsibility . The EU data protection authorities have made it clear “that if a controller chooses to rely on consent for any part of the processing, they must be prepared to respect that choice and stop that choice if an individual withdraws consent’.” Strictly interpreted, this means the controller is not allowed to switch from the legal basis consent to legitimate interest once the user’s consent is not permitted to'"
            ],
            "application/vnd.google.colaboratory.intrinsic+json": {
              "type": "string"
            }
          },
          "metadata": {},
          "execution_count": 58
        }
      ]
    },
    {
      "cell_type": "code",
      "source": [
        "# Example summaries and references\n",
        "summary = '''Processing personal data is generally prohibited, unless it is expressly allowed by law, or the data subject has consented to the processing . The basic requirements for the effectiveness of a valid legal consent are defined in Article 7 and specified further in recital 32 of the General Data Protection Regulation (GDPR) consent must be freely given, specific, informed and unambiguous . For consent of children and adolescents in relation to information society services is a special case . For those who are under the age of 16, there is an additional consent or authorisation requirement from the holder of parental responsibility . The EU data protection authorities have made it clear “that if a controller chooses to rely on consent for any part of the processing, they must be prepared to respect that choice and stop that choice if an individual withdraws consent’.” Strictly interpreted, this means the controller is not allowed to switch from the legal basis consent to legitimate interest once the user’s consent is not permitted to'''\n",
        "reference = documents[-2]\n",
        "scores = rouge.get_scores(summary, reference)\n",
        "print('Rouge score:', scores)"
      ],
      "metadata": {
        "colab": {
          "base_uri": "https://localhost:8080/"
        },
        "id": "TrIokI0srA6_",
        "outputId": "e0da52d7-8191-47fa-bc0a-b20a3d522786"
      },
      "execution_count": null,
      "outputs": [
        {
          "output_type": "stream",
          "name": "stdout",
          "text": [
            "Rouge score: [{'rouge-1': {'r': 0.3282208588957055, 'p': 0.963963963963964, 'f': 0.4897025133727464}, 'rouge-2': {'r': 0.2435064935064935, 'p': 0.9259259259259259, 'f': 0.3856041098131786}, 'rouge-l': {'r': 0.3282208588957055, 'p': 0.963963963963964, 'f': 0.4897025133727464}}]\n"
          ]
        }
      ]
    },
    {
      "cell_type": "code",
      "source": [
        "# # Create a DataFrame\n",
        "# df = pd.DataFrame({\"Document\": [file[3:-4] for file in file_names], \"Summary\": summaries})\n",
        "\n",
        "# # Save to CSV\n",
        "# df.to_csv(\"/content/drive/MyDrive/GDPR/Data/GDPR_summaries.csv\", index=False)\n",
        "\n",
        "# df.head()"
      ],
      "metadata": {
        "colab": {
          "base_uri": "https://localhost:8080/",
          "height": 206
        },
        "id": "ru8jyjWJwNsg",
        "outputId": "11580c43-6e18-4e56-8100-be0497c9b6bd"
      },
      "execution_count": null,
      "outputs": [
        {
          "output_type": "execute_result",
          "data": {
            "text/plain": [
              "                  Document                                            Summary\n",
              "0                  Consent   Processing personal data is generally prohibi...\n",
              "1  Data Protection Officer   The General Data Protection Regulation (GDPR)...\n",
              "2          Email Marketing   Processing is only allowed by the General Dat...\n",
              "3               Encryption   Companies can reduce the probability of a dat...\n",
              "4          Fines_Penalties   National authorities can or must assess fines..."
            ],
            "text/html": [
              "\n",
              "  <div id=\"df-96b4fb35-1dd4-48a6-afd2-3bbd6e650351\" class=\"colab-df-container\">\n",
              "    <div>\n",
              "<style scoped>\n",
              "    .dataframe tbody tr th:only-of-type {\n",
              "        vertical-align: middle;\n",
              "    }\n",
              "\n",
              "    .dataframe tbody tr th {\n",
              "        vertical-align: top;\n",
              "    }\n",
              "\n",
              "    .dataframe thead th {\n",
              "        text-align: right;\n",
              "    }\n",
              "</style>\n",
              "<table border=\"1\" class=\"dataframe\">\n",
              "  <thead>\n",
              "    <tr style=\"text-align: right;\">\n",
              "      <th></th>\n",
              "      <th>Document</th>\n",
              "      <th>Summary</th>\n",
              "    </tr>\n",
              "  </thead>\n",
              "  <tbody>\n",
              "    <tr>\n",
              "      <th>0</th>\n",
              "      <td>Consent</td>\n",
              "      <td>Processing personal data is generally prohibi...</td>\n",
              "    </tr>\n",
              "    <tr>\n",
              "      <th>1</th>\n",
              "      <td>Data Protection Officer</td>\n",
              "      <td>The General Data Protection Regulation (GDPR)...</td>\n",
              "    </tr>\n",
              "    <tr>\n",
              "      <th>2</th>\n",
              "      <td>Email Marketing</td>\n",
              "      <td>Processing is only allowed by the General Dat...</td>\n",
              "    </tr>\n",
              "    <tr>\n",
              "      <th>3</th>\n",
              "      <td>Encryption</td>\n",
              "      <td>Companies can reduce the probability of a dat...</td>\n",
              "    </tr>\n",
              "    <tr>\n",
              "      <th>4</th>\n",
              "      <td>Fines_Penalties</td>\n",
              "      <td>National authorities can or must assess fines...</td>\n",
              "    </tr>\n",
              "  </tbody>\n",
              "</table>\n",
              "</div>\n",
              "    <div class=\"colab-df-buttons\">\n",
              "\n",
              "  <div class=\"colab-df-container\">\n",
              "    <button class=\"colab-df-convert\" onclick=\"convertToInteractive('df-96b4fb35-1dd4-48a6-afd2-3bbd6e650351')\"\n",
              "            title=\"Convert this dataframe to an interactive table.\"\n",
              "            style=\"display:none;\">\n",
              "\n",
              "  <svg xmlns=\"http://www.w3.org/2000/svg\" height=\"24px\" viewBox=\"0 -960 960 960\">\n",
              "    <path d=\"M120-120v-720h720v720H120Zm60-500h600v-160H180v160Zm220 220h160v-160H400v160Zm0 220h160v-160H400v160ZM180-400h160v-160H180v160Zm440 0h160v-160H620v160ZM180-180h160v-160H180v160Zm440 0h160v-160H620v160Z\"/>\n",
              "  </svg>\n",
              "    </button>\n",
              "\n",
              "  <style>\n",
              "    .colab-df-container {\n",
              "      display:flex;\n",
              "      gap: 12px;\n",
              "    }\n",
              "\n",
              "    .colab-df-convert {\n",
              "      background-color: #E8F0FE;\n",
              "      border: none;\n",
              "      border-radius: 50%;\n",
              "      cursor: pointer;\n",
              "      display: none;\n",
              "      fill: #1967D2;\n",
              "      height: 32px;\n",
              "      padding: 0 0 0 0;\n",
              "      width: 32px;\n",
              "    }\n",
              "\n",
              "    .colab-df-convert:hover {\n",
              "      background-color: #E2EBFA;\n",
              "      box-shadow: 0px 1px 2px rgba(60, 64, 67, 0.3), 0px 1px 3px 1px rgba(60, 64, 67, 0.15);\n",
              "      fill: #174EA6;\n",
              "    }\n",
              "\n",
              "    .colab-df-buttons div {\n",
              "      margin-bottom: 4px;\n",
              "    }\n",
              "\n",
              "    [theme=dark] .colab-df-convert {\n",
              "      background-color: #3B4455;\n",
              "      fill: #D2E3FC;\n",
              "    }\n",
              "\n",
              "    [theme=dark] .colab-df-convert:hover {\n",
              "      background-color: #434B5C;\n",
              "      box-shadow: 0px 1px 3px 1px rgba(0, 0, 0, 0.15);\n",
              "      filter: drop-shadow(0px 1px 2px rgba(0, 0, 0, 0.3));\n",
              "      fill: #FFFFFF;\n",
              "    }\n",
              "  </style>\n",
              "\n",
              "    <script>\n",
              "      const buttonEl =\n",
              "        document.querySelector('#df-96b4fb35-1dd4-48a6-afd2-3bbd6e650351 button.colab-df-convert');\n",
              "      buttonEl.style.display =\n",
              "        google.colab.kernel.accessAllowed ? 'block' : 'none';\n",
              "\n",
              "      async function convertToInteractive(key) {\n",
              "        const element = document.querySelector('#df-96b4fb35-1dd4-48a6-afd2-3bbd6e650351');\n",
              "        const dataTable =\n",
              "          await google.colab.kernel.invokeFunction('convertToInteractive',\n",
              "                                                    [key], {});\n",
              "        if (!dataTable) return;\n",
              "\n",
              "        const docLinkHtml = 'Like what you see? Visit the ' +\n",
              "          '<a target=\"_blank\" href=https://colab.research.google.com/notebooks/data_table.ipynb>data table notebook</a>'\n",
              "          + ' to learn more about interactive tables.';\n",
              "        element.innerHTML = '';\n",
              "        dataTable['output_type'] = 'display_data';\n",
              "        await google.colab.output.renderOutput(dataTable, element);\n",
              "        const docLink = document.createElement('div');\n",
              "        docLink.innerHTML = docLinkHtml;\n",
              "        element.appendChild(docLink);\n",
              "      }\n",
              "    </script>\n",
              "  </div>\n",
              "\n",
              "\n",
              "<div id=\"df-3d9095f1-261e-4b4f-ad33-c98fb2792fcc\">\n",
              "  <button class=\"colab-df-quickchart\" onclick=\"quickchart('df-3d9095f1-261e-4b4f-ad33-c98fb2792fcc')\"\n",
              "            title=\"Suggest charts\"\n",
              "            style=\"display:none;\">\n",
              "\n",
              "<svg xmlns=\"http://www.w3.org/2000/svg\" height=\"24px\"viewBox=\"0 0 24 24\"\n",
              "     width=\"24px\">\n",
              "    <g>\n",
              "        <path d=\"M19 3H5c-1.1 0-2 .9-2 2v14c0 1.1.9 2 2 2h14c1.1 0 2-.9 2-2V5c0-1.1-.9-2-2-2zM9 17H7v-7h2v7zm4 0h-2V7h2v10zm4 0h-2v-4h2v4z\"/>\n",
              "    </g>\n",
              "</svg>\n",
              "  </button>\n",
              "\n",
              "<style>\n",
              "  .colab-df-quickchart {\n",
              "      --bg-color: #E8F0FE;\n",
              "      --fill-color: #1967D2;\n",
              "      --hover-bg-color: #E2EBFA;\n",
              "      --hover-fill-color: #174EA6;\n",
              "      --disabled-fill-color: #AAA;\n",
              "      --disabled-bg-color: #DDD;\n",
              "  }\n",
              "\n",
              "  [theme=dark] .colab-df-quickchart {\n",
              "      --bg-color: #3B4455;\n",
              "      --fill-color: #D2E3FC;\n",
              "      --hover-bg-color: #434B5C;\n",
              "      --hover-fill-color: #FFFFFF;\n",
              "      --disabled-bg-color: #3B4455;\n",
              "      --disabled-fill-color: #666;\n",
              "  }\n",
              "\n",
              "  .colab-df-quickchart {\n",
              "    background-color: var(--bg-color);\n",
              "    border: none;\n",
              "    border-radius: 50%;\n",
              "    cursor: pointer;\n",
              "    display: none;\n",
              "    fill: var(--fill-color);\n",
              "    height: 32px;\n",
              "    padding: 0;\n",
              "    width: 32px;\n",
              "  }\n",
              "\n",
              "  .colab-df-quickchart:hover {\n",
              "    background-color: var(--hover-bg-color);\n",
              "    box-shadow: 0 1px 2px rgba(60, 64, 67, 0.3), 0 1px 3px 1px rgba(60, 64, 67, 0.15);\n",
              "    fill: var(--button-hover-fill-color);\n",
              "  }\n",
              "\n",
              "  .colab-df-quickchart-complete:disabled,\n",
              "  .colab-df-quickchart-complete:disabled:hover {\n",
              "    background-color: var(--disabled-bg-color);\n",
              "    fill: var(--disabled-fill-color);\n",
              "    box-shadow: none;\n",
              "  }\n",
              "\n",
              "  .colab-df-spinner {\n",
              "    border: 2px solid var(--fill-color);\n",
              "    border-color: transparent;\n",
              "    border-bottom-color: var(--fill-color);\n",
              "    animation:\n",
              "      spin 1s steps(1) infinite;\n",
              "  }\n",
              "\n",
              "  @keyframes spin {\n",
              "    0% {\n",
              "      border-color: transparent;\n",
              "      border-bottom-color: var(--fill-color);\n",
              "      border-left-color: var(--fill-color);\n",
              "    }\n",
              "    20% {\n",
              "      border-color: transparent;\n",
              "      border-left-color: var(--fill-color);\n",
              "      border-top-color: var(--fill-color);\n",
              "    }\n",
              "    30% {\n",
              "      border-color: transparent;\n",
              "      border-left-color: var(--fill-color);\n",
              "      border-top-color: var(--fill-color);\n",
              "      border-right-color: var(--fill-color);\n",
              "    }\n",
              "    40% {\n",
              "      border-color: transparent;\n",
              "      border-right-color: var(--fill-color);\n",
              "      border-top-color: var(--fill-color);\n",
              "    }\n",
              "    60% {\n",
              "      border-color: transparent;\n",
              "      border-right-color: var(--fill-color);\n",
              "    }\n",
              "    80% {\n",
              "      border-color: transparent;\n",
              "      border-right-color: var(--fill-color);\n",
              "      border-bottom-color: var(--fill-color);\n",
              "    }\n",
              "    90% {\n",
              "      border-color: transparent;\n",
              "      border-bottom-color: var(--fill-color);\n",
              "    }\n",
              "  }\n",
              "</style>\n",
              "\n",
              "  <script>\n",
              "    async function quickchart(key) {\n",
              "      const quickchartButtonEl =\n",
              "        document.querySelector('#' + key + ' button');\n",
              "      quickchartButtonEl.disabled = true;  // To prevent multiple clicks.\n",
              "      quickchartButtonEl.classList.add('colab-df-spinner');\n",
              "      try {\n",
              "        const charts = await google.colab.kernel.invokeFunction(\n",
              "            'suggestCharts', [key], {});\n",
              "      } catch (error) {\n",
              "        console.error('Error during call to suggestCharts:', error);\n",
              "      }\n",
              "      quickchartButtonEl.classList.remove('colab-df-spinner');\n",
              "      quickchartButtonEl.classList.add('colab-df-quickchart-complete');\n",
              "    }\n",
              "    (() => {\n",
              "      let quickchartButtonEl =\n",
              "        document.querySelector('#df-3d9095f1-261e-4b4f-ad33-c98fb2792fcc button');\n",
              "      quickchartButtonEl.style.display =\n",
              "        google.colab.kernel.accessAllowed ? 'block' : 'none';\n",
              "    })();\n",
              "  </script>\n",
              "</div>\n",
              "    </div>\n",
              "  </div>\n"
            ]
          },
          "metadata": {},
          "execution_count": 22
        }
      ]
    },
    {
      "cell_type": "markdown",
      "source": [
        "#### Pre-trained legal summarization model - https://huggingface.co/nsi319/legal-pegasus"
      ],
      "metadata": {
        "id": "Pf9BFQgo22T3"
      }
    },
    {
      "cell_type": "code",
      "source": [
        "from transformers import AutoTokenizer, AutoModelForSeq2SeqLM\n",
        "\n",
        "tokenizer = AutoTokenizer.from_pretrained(\"nsi319/legal-pegasus\")\n",
        "model = AutoModelForSeq2SeqLM.from_pretrained(\"nsi319/legal-pegasus\")\n",
        "\n",
        "\n",
        "text = \"\"\"The competent supervisory authority shall approve binding corporate rules in accordance with the consistency mechanism set out in Article 63, provided that they\n",
        "are legally binding and apply to and are enforced by every member concerned of the group of undertakings, or group of enterprises engaged in a joint economic activity, including their employees\n",
        "expressly confer enforceable rights on data subjects with regard to the processing of their personal data. The binding corporate rules referred to in paragraph 1 shall specify at least\n",
        "the structure and contact details of the group of undertakings, or group of enterprises engaged in a joint economic activity and of each of its members\n",
        "the data transfers or set of transfers, including the categories of personal data, the type of processing and its purposes, the type of data subjects affected and the identification of the third country or countries in question\n",
        "their legally binding nature, both internally and externally\n",
        "the application of the general data protection principles, in particular purpose limitation, data minimisation, limited storage periods, data quality, data protection by design and by default, legal basis for processing, processing of special categories of personal data, measures to ensure data security, and the requirements in respect of onward transfers to bodies not bound by the binding corporate rules\n",
        "the rights of data subjects in regard to processing and the means to exercise those rights, including the right not to be subject to decisions based solely on automated processing, including profiling in accordance with Article 22, the right to lodge a complaint with the competent supervisory authority and before the competent courts of the Member States in accordance with Article 79, and to obtain redress and, where appropriate, compensation for a breach of the binding corporate rules\n",
        "the acceptance by the controller or processor established on the territory of a Member State of liability for any breaches of the binding corporate rules by any member concerned not established in the Union; the controller or the processor shall be exempt from that liability, in whole or in part, only if it proves that that member is not responsible for the event giving rise to the damage\n",
        "how the information on the binding corporate rules, in particular on the provisions referred to in points (d), (e) and (f) of this paragraph is provided to the data subjects in addition to Articles 13 and 14\n",
        "the tasks of any data protection officer designated in accordance with  Article 37 or any other person or entity in charge of the monitoring compliance with the binding corporate rules within the group of undertakings, or group of enterprises engaged in a joint economic activity, as well as monitoring training and complaint-handling\n",
        "the complaint procedures\n",
        "the mechanisms within the group of undertakings, or group of enterprises engaged in a joint economic activity for ensuring the verification of compliance with the binding corporate rules. Such mechanisms shall include data protection audits and methods for ensuring corrective actions to protect the rights of the data subject. Results of such verification should be communicated to the person or entity referred to in point (h) and to the board of the controlling undertaking of a group of undertakings, or of the group of enterprises engaged in a joint economic activity, and should be available upon request to the competent supervisory authority\n",
        "the mechanisms for reporting and recording changes to the rules and reporting those changes to the supervisory authority\n",
        "the cooperation mechanism with the supervisory authority to ensure compliance by any member of the group of undertakings, or group of enterprises engaged in a joint economic activity, in particular by making available to the supervisory authority the results of verifications of the measures referred to in point (j)\n",
        "the mechanisms for reporting to the competent supervisory authority any legal requirements to which a member of the group of undertakings, or group of enterprises engaged in a joint economic activity is subject in a third country which are likely to have a substantial adverse effect on the guarantees provided by the binding corporate rules; \"\"\"\n",
        "\n",
        "input_tokenized = tokenizer.encode(documents[-2], return_tensors='pt',max_length=1024,truncation=True)\n",
        "summary_ids = model.generate(input_tokenized,\n",
        "                                  num_beams=9,\n",
        "                                  no_repeat_ngram_size=3,\n",
        "                                  length_penalty=2.0,\n",
        "                                  min_length=150,\n",
        "                                  max_length=250,\n",
        "                                  early_stopping=True)\n",
        "summary = [tokenizer.decode(g, skip_special_tokens=True, clean_up_tokenization_spaces=False) for g in summary_ids][0]\n",
        "### Summary Output\n",
        "\n",
        "# The Securities and Exchange Commission today charged AT&T, Inc. and three of its Investor Relations executives with aiding and abetting the company's violations of the antifraud provisions of Section 10(b) of the Securities Exchange Act of 1934 and Rule 10b-5 thereunder. According to the SEC's complaint, the company learned in March 2016 that a steeper-than-expected decline in its first quarter smartphone sales would cause its revenue to fall short of analysts' estimates for the quarter. The complaint alleges that to avoid falling short of the consensus revenue estimate for the third consecutive quarter, the executives made private, one-on-one phone calls to analysts at approximately 20 separate firms. On these calls, the SEC alleges that Christopher Womack, Michael Black, and Kent Evans allegedly disclosed internal smartphone sales data and the impact of that data on internal revenue metrics. The SEC further alleges that as a result of what they were told, the analysts substantially reduced their revenue forecasts, leading to the overall consensus Revenue Estimate falling to just below the level that AT&t ultimately reported to the public on April 26, 2016. The SEC is seeking permanent injunctive relief and civil monetary penalties against each defendant.\n"
      ],
      "metadata": {
        "id": "y3z7-warDgI0"
      },
      "execution_count": null,
      "outputs": []
    },
    {
      "cell_type": "code",
      "source": [
        "summary"
      ],
      "metadata": {
        "colab": {
          "base_uri": "https://localhost:8080/",
          "height": 164
        },
        "id": "CtDnXG80EQpV",
        "outputId": "27cc3299-d7af-4359-fb04-17462dd291ee"
      },
      "execution_count": null,
      "outputs": [
        {
          "output_type": "execute_result",
          "data": {
            "text/plain": [
              "'The General Data Protection Regulation (GDR) came into force on 25 May 2012 and is designed to protect the personal data of individuals in the European Union. According to the GDR, the processing of personal data is generally prohibited unless it is expressly allowed by law or the data subject has consented to it. For example, in an employer-employee relationship, the employee may worry that his consent may have severe negative consequences on his employment relationship. Therefore consent can only be a lawful basis for processing in a few exceptional circumstances. In addition, a so-called \"coupling\" or \"prohibition of consent\" applies. Thus, the performance of a contract may not be made dependent upon the consent to process further personal data. For consent to be informed and specific, the data must be freely given, specific, informed and unambiguous. In order to obtain freely given consent, it must be given on a basis of consent. The data subject must also be informed about his or her right to withdraw consent for any part of the processing. The controller must also inform about the use of the data for automated decision-making. In this regard, the controller also has to inform about possible risks of data transfers due to absence of appropriate safeguards or appropriate decision or'"
            ],
            "application/vnd.google.colaboratory.intrinsic+json": {
              "type": "string"
            }
          },
          "metadata": {},
          "execution_count": 60
        }
      ]
    },
    {
      "cell_type": "code",
      "source": [
        "# Example summaries and references\n",
        "summary = '''The General Data Protection Regulation (GDR) came into force on 25 May 2012 and is designed to protect the personal data of individuals in the European Union. According to the GDR, the processing of personal data is generally prohibited unless it is expressly allowed by law or the data subject has consented to it. For example, in an employer-employee relationship, the employee may worry that his consent may have severe negative consequences on his employment relationship. Therefore consent can only be a lawful basis for processing in a few exceptional circumstances. In addition, a so-called \"coupling\" or \"prohibition of consent\" applies. Thus, the performance of a contract may not be made dependent upon the consent to process further personal data. For consent to be informed and specific, the data must be freely given, specific, informed and unambiguous. In order to obtain freely given consent, it must be given on a basis of consent. The data subject must also be informed about his or her right to withdraw consent for any part of the processing. The controller must also inform about the use of the data for automated decision-making. In this regard, the controller also has to inform about possible risks of data transfers due to absence of appropriate safeguards or appropriate decision or'''\n",
        "reference = documents[-2]\n",
        "scores = rouge.get_scores(summary, reference)\n",
        "print('Rouge score:', scores)"
      ],
      "metadata": {
        "colab": {
          "base_uri": "https://localhost:8080/"
        },
        "id": "42tj8r2wsOfi",
        "outputId": "47f0775f-ba6e-4161-fede-dcb9dac5bc9d"
      },
      "execution_count": null,
      "outputs": [
        {
          "output_type": "stream",
          "name": "stdout",
          "text": [
            "Rouge score: [{'rouge-1': {'r': 0.29754601226993865, 'p': 0.8290598290598291, 'f': 0.4379232466772316}, 'rouge-2': {'r': 0.22564935064935066, 'p': 0.6984924623115578, 'f': 0.34110429078748916}, 'rouge-l': {'r': 0.27300613496932513, 'p': 0.7606837606837606, 'f': 0.40180586518738953}}]\n"
          ]
        }
      ]
    },
    {
      "cell_type": "code",
      "source": [
        "summaries = []\n",
        "for doc in documents:\n",
        "  input_tokenized = tokenizer.encode(doc, return_tensors='pt',max_length=1024,truncation=True)\n",
        "  summary_ids = model.generate(input_tokenized,\n",
        "                                  num_beams=9,\n",
        "                                  no_repeat_ngram_size=3,\n",
        "                                  length_penalty=2.0,\n",
        "                                  min_length=150,\n",
        "                                  max_length=300,\n",
        "                                  early_stopping=True)\n",
        "  summaries.append([tokenizer.decode(g, skip_special_tokens=True, clean_up_tokenization_spaces=False) for g in summary_ids][0])\n",
        "\n",
        "# Create a DataFrame\n",
        "df = pd.DataFrame({\"Document\": [file[3:-4] for file in file_names], \"Summary\": summaries})\n",
        "\n",
        "# Save to CSV\n",
        "df.to_csv(\"/content/drive/MyDrive/GDPR/GDPR/Data/GDPR_summaries.csv\", index=False)"
      ],
      "metadata": {
        "id": "00FOwZrO3wP9"
      },
      "execution_count": null,
      "outputs": []
    },
    {
      "cell_type": "code",
      "source": [
        "df.head()"
      ],
      "metadata": {
        "id": "04avsQ4mGPpH"
      },
      "execution_count": null,
      "outputs": []
    },
    {
      "cell_type": "markdown",
      "source": [
        "#### Pre-trained legal summarization model with extractive summarization as a pre-processing step"
      ],
      "metadata": {
        "id": "ulIi_AWQhji6"
      }
    },
    {
      "cell_type": "code",
      "source": [
        "\n",
        "# Input from extractive summary\n",
        "text = \"\"\"Especially considering that the European data protection authorities have made it clear “that if a controller chooses to rely on consent for any part of the processing, they must be prepared to respect that choice and stop that part of the processing if an individual withdraws consent.” Strictly interpreted, this means the controller is not allowed to switch from the legal basis consent to legitimate interest once the data subject withdraws his consent. For consent to be informed and specific, the data subject must at least be notified about the controller’s identity, what kind of data will be processed, how it will be used and the purpose of the processing operations as a safeguard against ‘function creep’. If the consent should legitimise the processing of special categories of personal data, the information for the data subject must expressly refer to this.\n",
        " While being one of the more well-known legal bases for processing personal data, consent is only one of six bases mentioned in the General Data Protection Regulation (GDPR). Processing personal data is generally prohibited, unless it is expressly allowed by law, or the data subject has consented to the processing. For example, in an employer-employee relationship: The employee may worry that his refusal to consent may have severe negative consequences on his employment relationship, thus consent can only be a lawful basis for processing in a few exceptional circumstances. Consent cannot be implied and must always be given through an opt-in, a declaration or an active motion, so that there is no misunderstanding that the data subject has consented to the particular processing. Thus, the performance of a contract may not be made dependent upon the consent to process further personal data, which is not needed for the performance of that contract.\n",
        " As one can see consent is not a silver bullet when it comes to the processing of personal data. That being said, there is no form requirement for consent, even if written consent is recommended due to the accountability of the controller. Therefore, consent should always be chosen as a last option for processing personal data.\n",
        " The data subject must also be informed about his or her right to withdraw consent anytime.\n",
        " \"\"\"\n",
        "\n",
        "input_tokenized = tokenizer.encode(text, return_tensors='pt',max_length=1024,truncation=True)\n",
        "summary_ids = model.generate(input_tokenized,\n",
        "                                  num_beams=9,\n",
        "                                  no_repeat_ngram_size=3,\n",
        "                                  length_penalty=2.0,\n",
        "                                  min_length=150,\n",
        "                                  max_length=250,\n",
        "                                  early_stopping=True)\n",
        "summary = [tokenizer.decode(g, skip_special_tokens=True, clean_up_tokenization_spaces=False) for g in summary_ids][0]\n",
        "\n",
        "print(summary)"
      ],
      "metadata": {
        "colab": {
          "base_uri": "https://localhost:8080/"
        },
        "id": "ntOjI6bqhp3d",
        "outputId": "5dedd7e8-5b24-4c0b-91c9-2ffc438b2e86"
      },
      "execution_count": null,
      "outputs": [
        {
          "output_type": "stream",
          "name": "stdout",
          "text": [
            "The European data protection authorities have made it clear that if a controller chooses to rely on consent for any part of processing, they must be prepared to respect that choice if an individual withdraws consent. Strictly interpreted this means that the controller is not allowed to switch from the legal basis consent to legitimate interest once the data subject withdraws his consent. For consent to be informed specific data must at least be notified about the controller’s identity, what kind of data will be processed, how it will be used and the purpose of the processing operations as a safeguard against ‘function creep’.<n>While consent is one of the more well-known legal bases for processing personal data, it is only one of six mentioned bases in the General Data Protection Regulation.\n"
          ]
        }
      ]
    },
    {
      "cell_type": "code",
      "source": [
        "# Example summaries and references\n",
        "summary = '''The European data protection authorities have made it clear that if a controller chooses to rely on consent for any part of processing, they must be prepared to respect that choice if an individual withdraws consent. Strictly interpreted this means that the controller is not allowed to switch from the legal basis consent to legitimate interest once the data subject withdraws his consent. For consent to be informed specific data must at least be notified about the controller’s identity, what kind of data will be processed, how it will be used and the purpose of the processing operations as a safeguard against ‘function creep’.<n>While consent is one of the more well-known legal bases for processing personal data, it is only one of six mentioned bases in the General Data Protection Regulation.'''\n",
        "reference = documents[-2]\n",
        "scores = rouge.get_scores(summary, reference)\n",
        "print('Rouge score:', scores)"
      ],
      "metadata": {
        "colab": {
          "base_uri": "https://localhost:8080/"
        },
        "id": "DOjlIjcUsvqa",
        "outputId": "20262157-896a-4196-fbc6-c222a44c42e2"
      },
      "execution_count": null,
      "outputs": [
        {
          "output_type": "stream",
          "name": "stdout",
          "text": [
            "Rouge score: [{'rouge-1': {'r': 0.2607361963190184, 'p': 0.9659090909090909, 'f': 0.4106280159761022}, 'rouge-2': {'r': 0.1737012987012987, 'p': 0.84251968503937, 'f': 0.2880215314860819}, 'rouge-l': {'r': 0.2607361963190184, 'p': 0.9659090909090909, 'f': 0.4106280159761022}}]\n"
          ]
        }
      ]
    },
    {
      "cell_type": "markdown",
      "source": [
        "#### Pre-trained default summarization model with extractive summarization as a pre-processing step"
      ],
      "metadata": {
        "id": "k0RhO652tKF8"
      }
    },
    {
      "cell_type": "code",
      "source": [
        "text = \"\"\"Especially considering that the European data protection authorities have made it clear “that if a controller chooses to rely on consent for any part of the processing, they must be prepared to respect that choice and stop that part of the processing if an individual withdraws consent.” Strictly interpreted, this means the controller is not allowed to switch from the legal basis consent to legitimate interest once the data subject withdraws his consent. For consent to be informed and specific, the data subject must at least be notified about the controller’s identity, what kind of data will be processed, how it will be used and the purpose of the processing operations as a safeguard against ‘function creep’. If the consent should legitimise the processing of special categories of personal data, the information for the data subject must expressly refer to this.\n",
        " While being one of the more well-known legal bases for processing personal data, consent is only one of six bases mentioned in the General Data Protection Regulation (GDPR). Processing personal data is generally prohibited, unless it is expressly allowed by law, or the data subject has consented to the processing. For example, in an employer-employee relationship: The employee may worry that his refusal to consent may have severe negative consequences on his employment relationship, thus consent can only be a lawful basis for processing in a few exceptional circumstances. Consent cannot be implied and must always be given through an opt-in, a declaration or an active motion, so that there is no misunderstanding that the data subject has consented to the particular processing. Thus, the performance of a contract may not be made dependent upon the consent to process further personal data, which is not needed for the performance of that contract.\n",
        " As one can see consent is not a silver bullet when it comes to the processing of personal data. That being said, there is no form requirement for consent, even if written consent is recommended due to the accountability of the controller. Therefore, consent should always be chosen as a last option for processing personal data.\n",
        " The data subject must also be informed about his or her right to withdraw consent anytime.\n",
        " \"\"\"\n",
        "\n",
        "summarizer = pipeline(\"summarization\")\n",
        "\n",
        "# Generate Summaries\n",
        "summaries = [summarizer(doc, max_length=1000, min_length=200, length_penalty=2.0, num_beams=9)[0]['summary_text'] for doc in [text]]\n",
        "\n",
        "summaries[0]"
      ],
      "metadata": {
        "colab": {
          "base_uri": "https://localhost:8080/",
          "height": 220
        },
        "id": "-ign8hxItMOA",
        "outputId": "3630b6ee-0610-426f-ef30-c939e87c1290"
      },
      "execution_count": null,
      "outputs": [
        {
          "output_type": "stream",
          "name": "stderr",
          "text": [
            "No model was supplied, defaulted to sshleifer/distilbart-cnn-12-6 and revision a4f8f3e (https://huggingface.co/sshleifer/distilbart-cnn-12-6).\n",
            "Using a pipeline without specifying a model name and revision in production is not recommended.\n",
            "Your max_length is set to 1000, but your input_length is only 431. Since this is a summarization task, where outputs shorter than the input are typically wanted, you might consider decreasing max_length manually, e.g. summarizer('...', max_length=215)\n"
          ]
        },
        {
          "output_type": "execute_result",
          "data": {
            "text/plain": [
              "' Consent is only one of six legal bases mentioned in the General Data Protection Regulation (GDPR) Processing personal data is generally prohibited, unless it is expressly allowed by law, or the data subject has consented to the processing . The data subject must at least be notified about the controller’s identity, what kind of data will be processed, how it will be used and the purpose of the processing operations as a safeguard against ‘function creep’ If the consent should legitimise the processing of special categories of personal data, the information must expressly refer to this . Consent cannot be implied and must always be given through an opt-in, a declaration or an active motion . There is no form requirement for consent, even if written consent is recommended due to the accountability of the controller . The Data subject must also be informed about his or her right to withdraw consent anytime. For example, in an employer-employee relationship: The employee may worry that his refusal to consent may have severe'"
            ],
            "application/vnd.google.colaboratory.intrinsic+json": {
              "type": "string"
            }
          },
          "metadata": {},
          "execution_count": 71
        }
      ]
    },
    {
      "cell_type": "code",
      "source": [
        "# Example summaries and references\n",
        "summary = summaries[0]\n",
        "reference = documents[-2]\n",
        "scores = rouge.get_scores(summary, reference)\n",
        "print('Rouge score:', scores)"
      ],
      "metadata": {
        "colab": {
          "base_uri": "https://localhost:8080/"
        },
        "id": "QfcX7mwJtTxi",
        "outputId": "e53de4a2-9211-4461-d30e-d1ed8c6e6481"
      },
      "execution_count": null,
      "outputs": [
        {
          "output_type": "stream",
          "name": "stdout",
          "text": [
            "Rouge score: [{'rouge-1': {'r': 0.3282208588957055, 'p': 0.9907407407407407, 'f': 0.493087553865234}, 'rouge-2': {'r': 0.2353896103896104, 'p': 0.9119496855345912, 'f': 0.3741935451256941}, 'rouge-l': {'r': 0.3282208588957055, 'p': 0.9907407407407407, 'f': 0.493087553865234}}]\n"
          ]
        }
      ]
    },
    {
      "cell_type": "code",
      "source": [],
      "metadata": {
        "id": "aDQ8Izmbtibt"
      },
      "execution_count": null,
      "outputs": []
    }
  ]
}